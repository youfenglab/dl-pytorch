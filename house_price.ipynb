{
 "cells": [
  {
   "cell_type": "code",
   "execution_count": 144,
   "id": "49eafce3-afcf-42f4-b3f6-7888896ccfcf",
   "metadata": {
    "tags": []
   },
   "outputs": [],
   "source": [
    "import torch\n",
    "from torch import nn\n",
    "import numpy as np"
   ]
  },
  {
   "cell_type": "code",
   "execution_count": 145,
   "id": "e3e9a2cb-e258-467d-b1f9-56320ca44ba8",
   "metadata": {},
   "outputs": [],
   "source": [
    "# load data \n",
    "from sklearn.datasets import fetch_california_housing\n",
    "from sklearn.model_selection import train_test_split\n",
    "from sklearn.preprocessing import StandardScaler"
   ]
  },
  {
   "cell_type": "code",
   "execution_count": 146,
   "id": "35341566-abe6-49ac-9250-947dba15ebbf",
   "metadata": {},
   "outputs": [],
   "source": [
    "housing = fetch_california_housing()"
   ]
  },
  {
   "cell_type": "code",
   "execution_count": 148,
   "id": "38c3fc50-a70c-4a05-b12b-878e0f16da3f",
   "metadata": {},
   "outputs": [],
   "source": [
    "X, X_test, y, y_test = train_test_split(housing.data, housing.target, test_size=0.2,random_state=42)\n",
    "X_train, X_valid, y_train, y_valid = train_test_split(X, y, train_size=0.8, random_state=42)\n",
    "\n",
    "scaler = StandardScaler()\n",
    "X_train = scaler.fit_transform(X_train)\n",
    "X_valid = scaler.transform(X_valid)\n",
    "X_test = scaler.transform(X_test)"
   ]
  },
  {
   "cell_type": "code",
   "execution_count": 149,
   "id": "74d111ce-5419-499b-aacb-504a8ddc40b7",
   "metadata": {},
   "outputs": [
    {
     "data": {
      "text/plain": [
       "((13209, 8), (3303, 8), (4128, 8))"
      ]
     },
     "execution_count": 149,
     "metadata": {},
     "output_type": "execute_result"
    }
   ],
   "source": [
    "X_train.shape, X_valid.shape, X_test.shape"
   ]
  },
  {
   "cell_type": "code",
   "execution_count": 150,
   "id": "4353bd25-370d-4a4d-824f-bbc56e6c81b8",
   "metadata": {},
   "outputs": [
    {
     "data": {
      "text/plain": [
       "array([1.769, 1.733, 2.047, ..., 2.153, 1.39 , 1.813])"
      ]
     },
     "execution_count": 150,
     "metadata": {},
     "output_type": "execute_result"
    }
   ],
   "source": [
    "y_train"
   ]
  },
  {
   "cell_type": "code",
   "execution_count": 151,
   "id": "533de09a-6fc3-41df-8567-1aa320566509",
   "metadata": {
    "tags": []
   },
   "outputs": [],
   "source": [
    "X_train, X_valid, X_test = torch.Tensor(X_train), torch.Tensor(X_valid), torch.Tensor(X_test)\n",
    "y_train, y_valid, y_test = torch.Tensor(y_train).reshape((-1, 1)), torch.Tensor(y_valid).reshape((-1, 1)), torch.Tensor(y_test).reshape((-1, 1))"
   ]
  },
  {
   "cell_type": "code",
   "execution_count": 152,
   "id": "fe0251c7-2598-4965-ba9e-72200d8e69da",
   "metadata": {},
   "outputs": [
    {
     "data": {
      "text/plain": [
       "(tensor([[ 0.4434, -0.1245,  0.5205,  ...,  0.0517,  1.1028, -0.6916],\n",
       "         [ 0.0032, -1.0777, -0.1708,  ..., -0.0552, -0.7249,  0.8544],\n",
       "         [-0.5218, -0.2039, -0.0613,  ..., -0.0170, -0.8843,  0.8644],\n",
       "         ...,\n",
       "         [ 0.0611, -0.8394,  0.0611,  ...,  0.0311, -1.3623,  1.2933],\n",
       "         [ 0.3399, -0.9983, -0.4748,  ..., -0.1376, -0.8468,  0.8544],\n",
       "         [ 0.1752,  0.5110, -0.4947,  ..., -0.0077, -0.8140,  0.6300]]),\n",
       " tensor([[1.7690],\n",
       "         [1.7330],\n",
       "         [2.0470],\n",
       "         ...,\n",
       "         [2.1530],\n",
       "         [1.3900],\n",
       "         [1.8130]]))"
      ]
     },
     "execution_count": 152,
     "metadata": {},
     "output_type": "execute_result"
    }
   ],
   "source": [
    "X_train, y_train"
   ]
  },
  {
   "cell_type": "code",
   "execution_count": 153,
   "id": "1b721545-6ee2-4b54-a3d5-8df8e9987f74",
   "metadata": {},
   "outputs": [
    {
     "data": {
      "text/plain": [
       "(torch.Size([13209, 8]), torch.Size([13209, 1]))"
      ]
     },
     "execution_count": 153,
     "metadata": {},
     "output_type": "execute_result"
    }
   ],
   "source": [
    "X_train.shape, y_train.shape"
   ]
  },
  {
   "cell_type": "code",
   "execution_count": 154,
   "id": "bb7093e7-c228-4340-9a7a-065e1de39dde",
   "metadata": {
    "tags": []
   },
   "outputs": [],
   "source": [
    "# load data\n",
    "from torch.utils import data\n",
    "\n",
    "def load_array(data_arrays, batch_size, is_train=True):\n",
    "    dataset = data.TensorDataset(*data_arrays) # The parameters *tensors means tensors that have the same size of the first dimension.\n",
    "    return data.DataLoader(dataset, batch_size, shuffle=is_train)"
   ]
  },
  {
   "cell_type": "code",
   "execution_count": 155,
   "id": "6c221aee-e955-4980-9cb0-1195b3f69a43",
   "metadata": {},
   "outputs": [],
   "source": [
    "batch_size = 4403\n",
    "data_iter = load_array((X_train, y_train), batch_size)"
   ]
  },
  {
   "cell_type": "code",
   "execution_count": 156,
   "id": "79dc6464-af31-42a7-9b55-12005411e76f",
   "metadata": {},
   "outputs": [
    {
     "data": {
      "text/plain": [
       "[tensor([[-0.5431, -1.4749, -0.2469,  ..., -0.0949,  1.4168, -0.8661],\n",
       "         [ 0.3215, -1.1571,  0.0391,  ..., -0.0338, -0.1485, -0.6217],\n",
       "         [-0.3733,  0.4315,  0.1639,  ..., -0.0047, -0.5281,  1.1387],\n",
       "         ...,\n",
       "         [-0.5785, -0.9188, -0.0719,  ...,  0.0338, -0.7203,  1.0739],\n",
       "         [-0.4697, -0.5217, -0.2477,  ..., -0.0850, -0.7296,  0.9492],\n",
       "         [-0.2494,  0.4315, -0.1223,  ..., -0.0043, -0.7390,  0.8245]]),\n",
       " tensor([[1.3060],\n",
       "         [1.9270],\n",
       "         [0.7430],\n",
       "         ...,\n",
       "         [1.0980],\n",
       "         [1.4880],\n",
       "         [1.8880]])]"
      ]
     },
     "execution_count": 156,
     "metadata": {},
     "output_type": "execute_result"
    }
   ],
   "source": [
    "next(iter(data_iter))"
   ]
  },
  {
   "cell_type": "code",
   "execution_count": 165,
   "id": "031878c5-5d3c-4242-b482-cc1703b4dec6",
   "metadata": {},
   "outputs": [],
   "source": [
    "# build model\n",
    "model = nn.Sequential(nn.Linear(8, 256),\n",
    "                     nn.ReLU(),\n",
    "                     nn.Linear(256, 1))"
   ]
  },
  {
   "cell_type": "code",
   "execution_count": 166,
   "id": "e369e32f-c7d7-4a46-98d2-6ef2b898f5b1",
   "metadata": {},
   "outputs": [
    {
     "data": {
      "text/plain": [
       "Sequential(\n",
       "  (0): Linear(in_features=8, out_features=256, bias=True)\n",
       "  (1): ReLU()\n",
       "  (2): Linear(in_features=256, out_features=1, bias=True)\n",
       ")"
      ]
     },
     "execution_count": 166,
     "metadata": {},
     "output_type": "execute_result"
    }
   ],
   "source": [
    "# init weights and biases\n",
    "def init_params(m):\n",
    "    if type(m) == nn.Linear:\n",
    "        nn.init.normal_(m.weight, std=0.01)\n",
    "        nn.init.\n",
    "        \n",
    "model.apply(init_params)\n",
    "# model[0].weight.data.normal_(0, 0.01)\n",
    "# model[0].bias.data.fill_(0)"
   ]
  },
  {
   "cell_type": "code",
   "execution_count": 167,
   "id": "bec9b40e-7ead-4666-952d-e9aa1d8e5eec",
   "metadata": {},
   "outputs": [],
   "source": [
    "# select loss L2 loss\n",
    "loss = nn.MSELoss()"
   ]
  },
  {
   "cell_type": "code",
   "execution_count": 168,
   "id": "cdaf263d-e18d-4226-aac7-6c0dd1a19a70",
   "metadata": {},
   "outputs": [],
   "source": [
    "# choose optimizer\n",
    "trainer = torch.optim.SGD(model.parameters(), lr=0.03)"
   ]
  },
  {
   "cell_type": "code",
   "execution_count": 169,
   "id": "d1fb9838-a70e-4235-a12d-b74398f00212",
   "metadata": {},
   "outputs": [],
   "source": [
    "# train model\n",
    "num_epochs = 30\n",
    "ls = []\n",
    "for epoch in range(num_epochs):\n",
    "    for X, y in data_iter:\n",
    "        l = loss(model(X), y)\n",
    "        trainer.zero_grad()\n",
    "        l.backward()\n",
    "        trainer.step()\n",
    "    l = loss(model(X_train), y_train)\n",
    "    ls.append(l.detach().numpy())\n",
    "    # print(f'epoch {epoch + 1}, loss {l:f}')"
   ]
  },
  {
   "cell_type": "code",
   "execution_count": 170,
   "id": "55b334b1-4fca-4fb2-bae9-2ba0eaceeb7a",
   "metadata": {},
   "outputs": [
    {
     "data": {
      "image/png": "[encoded data removed]",
      "text/plain": [
       "<Figure size 576x360 with 1 Axes>"
      ]
     },
     "metadata": {
      "needs_background": "light"
     },
     "output_type": "display_data"
    }
   ],
   "source": [
    "import pandas as pd\n",
    "import matplotlib.pyplot as plt\n",
    "\n",
    "pd.DataFrame(ls, columns=['epoch_loss']).plot(figsize=(8,5))\n",
    "plt.grid(True)\n",
    "plt.show()"
   ]
  },
  {
   "cell_type": "code",
   "execution_count": 171,
   "id": "a3dab2f3-ad6b-49c3-825e-866a5c0f25e3",
   "metadata": {},
   "outputs": [
    {
     "data": {
      "text/plain": [
       "tensor([[0.9783],\n",
       "        [1.5969],\n",
       "        [2.3733]], grad_fn=<AddmmBackward>)"
      ]
     },
     "execution_count": 171,
     "metadata": {},
     "output_type": "execute_result"
    }
   ],
   "source": [
    "model(X_test[:3])"
   ]
  },
  {
   "cell_type": "code",
   "execution_count": 172,
   "id": "04898a23-27a3-48d3-84dc-335b96b1e2c2",
   "metadata": {},
   "outputs": [
    {
     "data": {
      "text/plain": [
       "tensor([[0.4770],\n",
       "        [0.4580],\n",
       "        [5.0000]])"
      ]
     },
     "execution_count": 172,
     "metadata": {},
     "output_type": "execute_result"
    }
   ],
   "source": [
    "y_test[:3]"
   ]
  },
  {
   "cell_type": "code",
   "execution_count": null,
   "id": "88a35d40-fde0-4313-b8d5-d735788b06de",
   "metadata": {},
   "outputs": [],
   "source": []
  }
 ],
 "metadata": {
  "kernelspec": {
   "display_name": "d2l:Python",
   "language": "python",
   "name": "conda-env-d2l-py"
  },
  "language_info": {
   "codemirror_mode": {
    "name": "ipython",
    "version": 3
   },
   "file_extension": ".py",
   "mimetype": "text/x-python",
   "name": "python",
   "nbconvert_exporter": "python",
   "pygments_lexer": "ipython3",
   "version": "3.9.7"
  }
 },
 "nbformat": 4,
 "nbformat_minor": 5
}
